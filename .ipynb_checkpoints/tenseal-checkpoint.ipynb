{
 "cells": [
  {
   "cell_type": "code",
   "execution_count": 1,
   "id": "1f7c953a-20e9-42b6-8f5a-66f515d25539",
   "metadata": {},
   "outputs": [
    {
     "name": "stdout",
     "output_type": "stream",
     "text": [
      "Collecting tenseal\n",
      "  Downloading tenseal-0.3.14-cp38-cp38-manylinux_2_17_x86_64.manylinux2014_x86_64.whl (4.9 MB)\n",
      "\u001b[2K     \u001b[90m━━━━━━━━━━━━━━━━━━━━━━━━━━━━━━━━━━━━━━━━\u001b[0m \u001b[32m4.9/4.9 MB\u001b[0m \u001b[31m4.4 MB/s\u001b[0m eta \u001b[36m0:00:00\u001b[0m00:01\u001b[0m00:01\u001b[0m\n",
      "\u001b[?25hInstalling collected packages: tenseal\n",
      "Successfully installed tenseal-0.3.14\n"
     ]
    }
   ],
   "source": [
    "! pip install tenseal"
   ]
  },
  {
   "cell_type": "code",
   "execution_count": 2,
   "id": "ba6e504e-c341-46f6-8a21-15d7dd049033",
   "metadata": {},
   "outputs": [
    {
     "data": {
      "text/plain": [
       "[157.0000210228373, -90.00001211547145, 153.0000204093923]"
      ]
     },
     "execution_count": 2,
     "metadata": {},
     "output_type": "execute_result"
    }
   ],
   "source": [
    "import tenseal as ts\n",
    "\n",
    "# Setup TenSEAL context\n",
    "context = ts.context(\n",
    "            ts.SCHEME_TYPE.CKKS,\n",
    "            poly_modulus_degree=8192,\n",
    "            coeff_mod_bit_sizes=[60, 40, 40, 60]\n",
    "          )\n",
    "context.generate_galois_keys()\n",
    "context.global_scale = 2**40\n",
    "\n",
    "v1 = [0, 1, 2, 3, 4]\n",
    "v2 = [4, 3, 2, 1, 0]\n",
    "\n",
    "# encrypted vectors\n",
    "enc_v1 = ts.ckks_vector(context, v1)\n",
    "enc_v2 = ts.ckks_vector(context, v2)\n",
    "\n",
    "result = enc_v1 + enc_v2\n",
    "result.decrypt() # ~ [4, 4, 4, 4, 4]\n",
    "\n",
    "result = enc_v1.dot(enc_v2)\n",
    "result.decrypt() # ~ [10]\n",
    "\n",
    "matrix = [\n",
    "  [73, 0.5, 8],\n",
    "  [81, -5, 66],\n",
    "  [-100, -78, -2],\n",
    "  [0, 9, 17],\n",
    "  [69, 11 , 10],\n",
    "]\n",
    "result = enc_v1.matmul(matrix)\n",
    "result.decrypt() # ~ [157, -90, 153]"
   ]
  },
  {
   "cell_type": "code",
   "execution_count": 9,
   "id": "0a78237b-2eba-4605-9e94-ed104e1f36f3",
   "metadata": {},
   "outputs": [
    {
     "ename": "AttributeError",
     "evalue": "module 'tenseal' has no attribute 'add'",
     "output_type": "error",
     "traceback": [
      "\u001b[0;31m---------------------------------------------------------------------------\u001b[0m",
      "\u001b[0;31mAttributeError\u001b[0m                            Traceback (most recent call last)",
      "Cell \u001b[0;32mIn [9], line 25\u001b[0m\n\u001b[1;32m     23\u001b[0m \u001b[38;5;66;03m# # Entrenamiento del modelo con cifrado homomórfico \u001b[39;00m\n\u001b[1;32m     24\u001b[0m \u001b[38;5;28;01mfor\u001b[39;00m _ \u001b[38;5;129;01min\u001b[39;00m \u001b[38;5;28mrange\u001b[39m(num_iterations): \n\u001b[0;32m---> 25\u001b[0m     predictions \u001b[38;5;241m=\u001b[39m \u001b[43mts\u001b[49m\u001b[38;5;241;43m.\u001b[39;49m\u001b[43madd\u001b[49m(ts\u001b[38;5;241m.\u001b[39mdot(encrypted_X, model_coef), model_intercept) \n\u001b[1;32m     26\u001b[0m     errors \u001b[38;5;241m=\u001b[39m ts\u001b[38;5;241m.\u001b[39msub(encrypted_y, predictions) \n\u001b[1;32m     28\u001b[0m     \u001b[38;5;66;03m# Actualización de coeficientes y término constante \u001b[39;00m\n",
      "\u001b[0;31mAttributeError\u001b[0m: module 'tenseal' has no attribute 'add'"
     ]
    }
   ],
   "source": [
    "import tenseal as ts \n",
    "import numpy as np \n",
    " \n",
    "# Configuración de TenSEAL \n",
    "context = ts.context(ts.SCHEME_TYPE.CKKS, poly_modulus_degree=8192, coeff_mod_bit_sizes=[60, 40, 40, 60]) \n",
    "context.global_scale = 2**40 \n",
    "secret_key = context.secret_key() \n",
    " \n",
    "# Datos de entrenamiento (simulados) \n",
    "X = np.array([[1.0, 2.0], [2.0, 3.0], [3.0, 4.0]]) \n",
    "y = np.array([3.0, 5.0, 7.0]) \n",
    " \n",
    "# Cifrado de datos \n",
    "encrypted_X = [ts.ckks_vector(context, X[i].tolist()) for i in range(len(X))] \n",
    "encrypted_y = ts.ckks_vector(context, y.tolist()) \n",
    " \n",
    "# # Modelo de regresión lineal (y = mx + b) \n",
    "model_coef = ts.ckks_vector(context, [0.0, 0.0]) \n",
    "model_intercept = ts.ckks_vector(context, [0.0]) \n",
    "learning_rate = 0.01 \n",
    "num_iterations = 100 \n",
    " \n",
    "# # Entrenamiento del modelo con cifrado homomórfico \n",
    "for _ in range(num_iterations): \n",
    "    predictions = ts.add(ts.dot(encrypted_X, model_coef), model_intercept) \n",
    "    errors = ts.sub(encrypted_y, predictions) \n",
    " \n",
    "    # Actualización de coeficientes y término constante \n",
    "    gradient_coef = ts.dot_plain(errors, encrypted_X) * (learning_rate / len(X)) \n",
    "    gradient_intercept = ts.mean(errors) * (learning_rate / len(X)) \n",
    "     \n",
    "    model_coef += gradient_coef \n",
    "    model_intercept += gradient_intercept \n",
    " \n",
    "# Descifrado del resultado final \n",
    "decrypted_coef = model_coef.decrypt(secret_key) \n",
    "decrypted_intercept = model_intercept.decrypt(secret_key)\n"
   ]
  }
 ],
 "metadata": {
  "kernelspec": {
   "display_name": "Python 3 (ipykernel)",
   "language": "python",
   "name": "python3"
  },
  "language_info": {
   "codemirror_mode": {
    "name": "ipython",
    "version": 3
   },
   "file_extension": ".py",
   "mimetype": "text/x-python",
   "name": "python",
   "nbconvert_exporter": "python",
   "pygments_lexer": "ipython3",
   "version": "3.8.13"
  }
 },
 "nbformat": 4,
 "nbformat_minor": 5
}
